{
 "cells": [
  {
   "cell_type": "markdown",
   "metadata": {},
   "source": [
    "# Pandas 기초 - 첫 번째 문제\n",
    "\n",
    "- 문제 1번:\n",
    "pandas를 import 하고 'pd'라고 별명을 부르는 코드를 작성하세요."
   ]
  },
  {
   "cell_type": "markdown",
   "metadata": {},
   "source": []
  },
  {
   "cell_type": "code",
   "execution_count": 4,
   "metadata": {
    "vscode": {
     "languageId": "bat"
    }
   },
   "outputs": [
    {
     "name": "stderr",
     "output_type": "stream",
     "text": [
      "���� ������ �ùٸ��� �ʽ��ϴ�.\n"
     ]
    }
   ],
   "source": [
    "! pip install pandas|"
   ]
  },
  {
   "cell_type": "code",
   "execution_count": 5,
   "metadata": {},
   "outputs": [],
   "source": [
    "import pandas as pd\n"
   ]
  },
  {
   "cell_type": "markdown",
   "metadata": {},
   "source": [
    "### df(dataframe)이 이란?\n",
    "- DataFrame(df)은 pandas에서 가장 중요한 2차원 데이터 구조입니다.\n",
    "- 행(row)과 열(column)으로 구성된 표 형태의 데이터를 저장하고 처리하는데 사용됩니다.\n",
    "- 엑셀의 스프레드시트와 유사한 형태입니다.\n",
    "- 각 열은 서로 다른 데이터 타입(숫자, 문자열, 날짜 등)을 가질 수 있습니다.\n",
    "- 인덱싱, 필터링, 그룹화, 병합 등 다양한 데이터 조작 기능을 제공합니다.\n"
   ]
  },
  {
   "cell_type": "code",
   "execution_count": 10,
   "metadata": {},
   "outputs": [
    {
     "name": "stdout",
     "output_type": "stream",
     "text": [
      "(801, 41)\n"
     ]
    }
   ],
   "source": [
    "df = pd.read_csv('data/pokemon.csv')\n",
    "\n",
    "\n",
    "# 1. 크기 확인 (df )\n",
    "print(df.shape)\n"
   ]
  },
  {
   "cell_type": "code",
   "execution_count": 11,
   "metadata": {},
   "outputs": [
    {
     "name": "stdout",
     "output_type": "stream",
     "text": [
      "                     abilities  against_bug  against_dark  against_dragon  \\\n",
      "0  ['Overgrow', 'Chlorophyll']          1.0           1.0             1.0   \n",
      "1  ['Overgrow', 'Chlorophyll']          1.0           1.0             1.0   \n",
      "2  ['Overgrow', 'Chlorophyll']          1.0           1.0             1.0   \n",
      "\n",
      "   against_electric  against_fairy  against_fight  against_fire  \\\n",
      "0               0.5            0.5            0.5           2.0   \n",
      "1               0.5            0.5            0.5           2.0   \n",
      "2               0.5            0.5            0.5           2.0   \n",
      "\n",
      "   against_flying  against_ghost  ...  percentage_male  pokedex_number  \\\n",
      "0             2.0            1.0  ...             88.1               1   \n",
      "1             2.0            1.0  ...             88.1               2   \n",
      "2             2.0            1.0  ...             88.1               3   \n",
      "\n",
      "   sp_attack  sp_defense  speed  type1   type2  weight_kg  generation  \\\n",
      "0         65          65     45  grass  poison        6.9           1   \n",
      "1         80          80     60  grass  poison       13.0           1   \n",
      "2        122         120     80  grass  poison      100.0           1   \n",
      "\n",
      "   is_legendary  \n",
      "0             0  \n",
      "1             0  \n",
      "2             0  \n",
      "\n",
      "[3 rows x 41 columns]\n"
     ]
    }
   ],
   "source": [
    "# 2. 첫 행 3개 확인\n",
    "print(df.head(3))\n"
   ]
  },
  {
   "cell_type": "code",
   "execution_count": 12,
   "metadata": {},
   "outputs": [
    {
     "name": "stdout",
     "output_type": "stream",
     "text": [
      "abilities             object\n",
      "against_bug          float64\n",
      "against_dark         float64\n",
      "against_dragon       float64\n",
      "against_electric     float64\n",
      "against_fairy        float64\n",
      "against_fight        float64\n",
      "against_fire         float64\n",
      "against_flying       float64\n",
      "against_ghost        float64\n",
      "against_grass        float64\n",
      "against_ground       float64\n",
      "against_ice          float64\n",
      "against_normal       float64\n",
      "against_poison       float64\n",
      "against_psychic      float64\n",
      "against_rock         float64\n",
      "against_steel        float64\n",
      "against_water        float64\n",
      "attack                 int64\n",
      "base_egg_steps         int64\n",
      "base_happiness         int64\n",
      "base_total             int64\n",
      "capture_rate          object\n",
      "classfication         object\n",
      "defense                int64\n",
      "experience_growth      int64\n",
      "height_m             float64\n",
      "hp                     int64\n",
      "japanese_name         object\n",
      "name                  object\n",
      "percentage_male      float64\n",
      "pokedex_number         int64\n",
      "sp_attack              int64\n",
      "sp_defense             int64\n",
      "speed                  int64\n",
      "type1                 object\n",
      "type2                 object\n",
      "weight_kg            float64\n",
      "generation             int64\n",
      "is_legendary           int64\n",
      "dtype: object\n"
     ]
    }
   ],
   "source": [
    "\n",
    "# 3. 행 종류 확인 - 자료형 O\n",
    "print(df.dtypes)\n"
   ]
  },
  {
   "cell_type": "code",
   "execution_count": 13,
   "metadata": {},
   "outputs": [
    {
     "name": "stdout",
     "output_type": "stream",
     "text": [
      "<class 'pandas.core.frame.DataFrame'>\n",
      "RangeIndex: 801 entries, 0 to 800\n",
      "Data columns (total 41 columns):\n",
      " #   Column             Non-Null Count  Dtype  \n",
      "---  ------             --------------  -----  \n",
      " 0   abilities          801 non-null    object \n",
      " 1   against_bug        801 non-null    float64\n",
      " 2   against_dark       801 non-null    float64\n",
      " 3   against_dragon     801 non-null    float64\n",
      " 4   against_electric   801 non-null    float64\n",
      " 5   against_fairy      801 non-null    float64\n",
      " 6   against_fight      801 non-null    float64\n",
      " 7   against_fire       801 non-null    float64\n",
      " 8   against_flying     801 non-null    float64\n",
      " 9   against_ghost      801 non-null    float64\n",
      " 10  against_grass      801 non-null    float64\n",
      " 11  against_ground     801 non-null    float64\n",
      " 12  against_ice        801 non-null    float64\n",
      " 13  against_normal     801 non-null    float64\n",
      " 14  against_poison     801 non-null    float64\n",
      " 15  against_psychic    801 non-null    float64\n",
      " 16  against_rock       801 non-null    float64\n",
      " 17  against_steel      801 non-null    float64\n",
      " 18  against_water      801 non-null    float64\n",
      " 19  attack             801 non-null    int64  \n",
      " 20  base_egg_steps     801 non-null    int64  \n",
      " 21  base_happiness     801 non-null    int64  \n",
      " 22  base_total         801 non-null    int64  \n",
      " 23  capture_rate       801 non-null    object \n",
      " 24  classfication      801 non-null    object \n",
      " 25  defense            801 non-null    int64  \n",
      " 26  experience_growth  801 non-null    int64  \n",
      " 27  height_m           781 non-null    float64\n",
      " 28  hp                 801 non-null    int64  \n",
      " 29  japanese_name      801 non-null    object \n",
      " 30  name               801 non-null    object \n",
      " 31  percentage_male    703 non-null    float64\n",
      " 32  pokedex_number     801 non-null    int64  \n",
      " 33  sp_attack          801 non-null    int64  \n",
      " 34  sp_defense         801 non-null    int64  \n",
      " 35  speed              801 non-null    int64  \n",
      " 36  type1              801 non-null    object \n",
      " 37  type2              417 non-null    object \n",
      " 38  weight_kg          781 non-null    float64\n",
      " 39  generation         801 non-null    int64  \n",
      " 40  is_legendary       801 non-null    int64  \n",
      "dtypes: float64(21), int64(13), object(7)\n",
      "memory usage: 256.7+ KB\n",
      "None\n"
     ]
    }
   ],
   "source": [
    "# 4. 행 종류 확인 - 자료형 X\n",
    "print(df.info())"
   ]
  },
  {
   "cell_type": "code",
   "execution_count": 15,
   "metadata": {},
   "outputs": [
    {
     "name": "stdout",
     "output_type": "stream",
     "text": [
      "Index(['abilities', 'against_bug', 'against_dark', 'against_dragon',\n",
      "       'against_electric', 'against_fairy', 'against_fight', 'against_fire',\n",
      "       'against_flying', 'against_ghost', 'against_grass', 'against_ground',\n",
      "       'against_ice', 'against_normal', 'against_poison', 'against_psychic',\n",
      "       'against_rock', 'against_steel', 'against_water', 'attack',\n",
      "       'base_egg_steps', 'base_happiness', 'base_total', 'capture_rate',\n",
      "       'classfication', 'defense', 'experience_growth', 'height_m', 'hp',\n",
      "       'japanese_name', 'name', 'percentage_male', 'pokedex_number',\n",
      "       'sp_attack', 'sp_defense', 'speed', 'type1', 'type2', 'weight_kg',\n",
      "       'generation', 'is_legendary'],\n",
      "      dtype='object')\n",
      "41\n"
     ]
    }
   ],
   "source": [
    "print(df.columns)\n",
    "\n",
    "print(len(df.columns))"
   ]
  },
  {
   "cell_type": "code",
   "execution_count": 20,
   "metadata": {},
   "outputs": [
    {
     "name": "stdout",
     "output_type": "stream",
     "text": [
      "['abilities', 'against_bug', 'against_dark', 'against_dragon', 'against_electric', 'against_fairy', 'against_fight', 'against_fire', 'against_flying', 'against_ghost', 'against_grass', 'against_ground', 'against_ice', 'against_normal', 'against_poison', 'against_psychic', 'against_rock', 'against_steel', 'against_water', 'attack', 'base_egg_steps', 'base_happiness', 'base_total', 'capture_rate', 'classfication', 'defense', 'experience_growth', 'height_m', 'hp', 'japanese_name', 'name', 'percentage_male', 'pokedex_number', 'sp_attack', 'sp_defense', 'speed', 'type1', 'type2', 'weight_kg', 'generation', 'is_legendary']\n",
      "<class 'pandas.core.indexes.base.Index'>\n",
      "<class 'list'>\n"
     ]
    }
   ],
   "source": [
    "# 리스트로 변환\n",
    "print(df.columns.tolist())\n",
    "#df.columns는 인덱스 객체인것을 확인할수있다\n",
    "print(type(df.columns))\n",
    "#df.columns.tolist()는 리스트 객체인것을 확인할수있다\n",
    "print(type(df.columns.tolist()))"
   ]
  },
  {
   "cell_type": "code",
   "execution_count": 24,
   "metadata": {},
   "outputs": [
    {
     "name": "stdout",
     "output_type": "stream",
     "text": [
      "      japanese_name        name  hp\n",
      "0  Fushigidaneフシギダネ   Bulbasaur  45\n",
      "1   Fushigisouフシギソウ     Ivysaur  60\n",
      "2  Fushigibanaフシギバナ    Venusaur  80\n",
      "3      Hitokageヒトカゲ  Charmander  39\n",
      "4       Lizardoリザード  Charmeleon  58\n"
     ]
    }
   ],
   "source": [
    "# 이중 대괄호 [[]] 사용\n",
    "selected_df = df[['japanese_name', 'name', 'hp']]\n",
    "print(selected_df.head())"
   ]
  },
  {
   "cell_type": "markdown",
   "metadata": {},
   "source": []
  },
  {
   "cell_type": "code",
   "execution_count": 23,
   "metadata": {},
   "outputs": [
    {
     "name": "stdout",
     "output_type": "stream",
     "text": [
      "      japanese_name        name  hp\n",
      "0  Fushigidaneフシギダネ   Bulbasaur  45\n",
      "1   Fushigisouフシギソウ     Ivysaur  60\n",
      "2  Fushigibanaフシギバナ    Venusaur  80\n",
      "3      Hitokageヒトカゲ  Charmander  39\n",
      "4       Lizardoリザード  Charmeleon  58\n"
     ]
    }
   ],
   "source": [
    "# head(5)로 처음 5개만\n",
    "print(df[['japanese_name', 'name', 'hp']].head(5))"
   ]
  },
  {
   "cell_type": "code",
   "execution_count": 25,
   "metadata": {},
   "outputs": [
    {
     "name": "stdout",
     "output_type": "stream",
     "text": [
      "1. Bulbasaur (Fushigidaneフシギダネ) - HP: 45\n",
      "2. Ivysaur (Fushigisouフシギソウ) - HP: 60\n",
      "3. Venusaur (Fushigibanaフシギバナ) - HP: 80\n",
      "4. Charmander (Hitokageヒトカゲ) - HP: 39\n",
      "5. Charmeleon (Lizardoリザード) - HP: 58\n"
     ]
    }
   ],
   "source": [
    "# 한 줄에 하나씩 예쁘게\n",
    "for i in range(5):\n",
    "    row = df.iloc[i]\n",
    "    print(f\"{i+1}. {row['name']} ({row['japanese_name']}) - HP: {row['hp']}\")"
   ]
  },
  {
   "cell_type": "markdown",
   "metadata": {},
   "source": [
    "🔥 다음 문제 3번\n",
    "이제 조건으로 필터링해봅시다!\n",
    "문제: HP가 100 이상인 포켓몬들의 이름과 HP만 출력해보세요."
   ]
  },
  {
   "cell_type": "markdown",
   "metadata": {},
   "source": [
    "### 1단계: 조건 만들기\n"
   ]
  },
  {
   "cell_type": "code",
   "execution_count": 30,
   "metadata": {},
   "outputs": [
    {
     "name": "stdout",
     "output_type": "stream",
     "text": [
      "0      False\n",
      "1      False\n",
      "2      False\n",
      "3      False\n",
      "4      False\n",
      "       ...  \n",
      "796    False\n",
      "797    False\n",
      "798     True\n",
      "799    False\n",
      "800    False\n",
      "Name: hp, Length: 801, dtype: bool\n"
     ]
    }
   ],
   "source": [
    "condition = df['hp'] >= 100\n",
    "print(condition)"
   ]
  },
  {
   "cell_type": "markdown",
   "metadata": {},
   "source": [
    "### 2단계: 조건으로 필터링"
   ]
  },
  {
   "cell_type": "code",
   "execution_count": 31,
   "metadata": {},
   "outputs": [
    {
     "name": "stdout",
     "output_type": "stream",
     "text": [
      "                                             abilities  against_bug  \\\n",
      "38       ['Cute Charm', 'Competitive', 'Friend Guard']          0.5   \n",
      "39              ['Cute Charm', 'Competitive', 'Frisk']          0.5   \n",
      "88   ['Stench', 'Sticky Hold', 'Poison Touch', 'Poi...          0.5   \n",
      "111          ['Lightningrod', 'Rock Head', 'Reckless']          1.0   \n",
      "112         ['Natural Cure', 'Serene Grace', 'Healer']          1.0   \n",
      "..                                                 ...          ...   \n",
      "790                                ['Full Metal Body']          1.0   \n",
      "791                                  ['Shadow Shield']          1.0   \n",
      "792                                    ['Beast Boost']          0.5   \n",
      "793                                    ['Beast Boost']          0.5   \n",
      "798                                    ['Beast Boost']          2.0   \n",
      "\n",
      "     against_dark  against_dragon  against_electric  against_fairy  \\\n",
      "38            0.5             0.0               1.0            1.0   \n",
      "39            0.5             0.0               1.0            1.0   \n",
      "88            1.0             1.0               1.0            0.5   \n",
      "111           1.0             1.0               0.0            1.0   \n",
      "112           1.0             1.0               1.0            1.0   \n",
      "..            ...             ...               ...            ...   \n",
      "790           2.0             0.5               1.0            0.5   \n",
      "791           4.0             1.0               1.0            1.0   \n",
      "792           1.0             1.0               1.0            0.5   \n",
      "793           0.5             1.0               1.0            2.0   \n",
      "798           0.5             2.0               0.5            4.0   \n",
      "\n",
      "     against_fight  against_fire  against_flying  against_ghost  ...  \\\n",
      "38             1.0           1.0             1.0            0.0  ...   \n",
      "39             1.0           1.0             1.0            0.0  ...   \n",
      "88             0.5           1.0             1.0            1.0  ...   \n",
      "111            2.0           0.5             0.5            1.0  ...   \n",
      "112            2.0           1.0             1.0            0.0  ...   \n",
      "..             ...           ...             ...            ...  ...   \n",
      "790            1.0           2.0             0.5            2.0  ...   \n",
      "791            0.0           1.0             1.0            4.0  ...   \n",
      "792            1.0           0.5             0.5            1.0  ...   \n",
      "793            0.5           2.0             4.0            1.0  ...   \n",
      "798            2.0           0.5             1.0            0.5  ...   \n",
      "\n",
      "     percentage_male  pokedex_number  sp_attack  sp_defense  speed    type1  \\\n",
      "38              24.6              39         45          25     20   normal   \n",
      "39              24.6              40         85          50     45   normal   \n",
      "88              50.0              89         65         100     50   poison   \n",
      "111             50.0             112         45          45     40   ground   \n",
      "112              0.0             113         35         105     50   normal   \n",
      "..               ...             ...        ...         ...    ...      ...   \n",
      "790              NaN             791        113          89     97  psychic   \n",
      "791              NaN             792        137         107     97  psychic   \n",
      "792              NaN             793        127         131    103     rock   \n",
      "793              NaN             794         53          53     79      bug   \n",
      "798              NaN             799         97          53     43     dark   \n",
      "\n",
      "        type2  weight_kg  generation  is_legendary  \n",
      "38      fairy        5.5           1             0  \n",
      "39      fairy       12.0           1             0  \n",
      "88     poison        NaN           1             0  \n",
      "111      rock      120.0           1             0  \n",
      "112       NaN       34.6           1             0  \n",
      "..        ...        ...         ...           ...  \n",
      "790     steel      230.0           7             1  \n",
      "791     ghost      120.0           7             1  \n",
      "792    poison       55.5           7             1  \n",
      "793  fighting      333.6           7             1  \n",
      "798    dragon      888.0           7             1  \n",
      "\n",
      "[91 rows x 41 columns]\n"
     ]
    }
   ],
   "source": [
    "filtered_df = df[condition]\n",
    "print(filtered_df)"
   ]
  },
  {
   "cell_type": "code",
   "execution_count": 33,
   "metadata": {},
   "outputs": [
    {
     "name": "stdout",
     "output_type": "stream",
     "text": [
      "                                             abilities  against_bug  \\\n",
      "38       ['Cute Charm', 'Competitive', 'Friend Guard']          0.5   \n",
      "39              ['Cute Charm', 'Competitive', 'Frisk']          0.5   \n",
      "88   ['Stench', 'Sticky Hold', 'Poison Touch', 'Poi...          0.5   \n",
      "111          ['Lightningrod', 'Rock Head', 'Reckless']          1.0   \n",
      "112         ['Natural Cure', 'Serene Grace', 'Healer']          1.0   \n",
      "..                                                 ...          ...   \n",
      "790                                ['Full Metal Body']          1.0   \n",
      "791                                  ['Shadow Shield']          1.0   \n",
      "792                                    ['Beast Boost']          0.5   \n",
      "793                                    ['Beast Boost']          0.5   \n",
      "798                                    ['Beast Boost']          2.0   \n",
      "\n",
      "     against_dark  against_dragon  against_electric  against_fairy  \\\n",
      "38            0.5             0.0               1.0            1.0   \n",
      "39            0.5             0.0               1.0            1.0   \n",
      "88            1.0             1.0               1.0            0.5   \n",
      "111           1.0             1.0               0.0            1.0   \n",
      "112           1.0             1.0               1.0            1.0   \n",
      "..            ...             ...               ...            ...   \n",
      "790           2.0             0.5               1.0            0.5   \n",
      "791           4.0             1.0               1.0            1.0   \n",
      "792           1.0             1.0               1.0            0.5   \n",
      "793           0.5             1.0               1.0            2.0   \n",
      "798           0.5             2.0               0.5            4.0   \n",
      "\n",
      "     against_fight  against_fire  against_flying  against_ghost  ...  \\\n",
      "38             1.0           1.0             1.0            0.0  ...   \n",
      "39             1.0           1.0             1.0            0.0  ...   \n",
      "88             0.5           1.0             1.0            1.0  ...   \n",
      "111            2.0           0.5             0.5            1.0  ...   \n",
      "112            2.0           1.0             1.0            0.0  ...   \n",
      "..             ...           ...             ...            ...  ...   \n",
      "790            1.0           2.0             0.5            2.0  ...   \n",
      "791            0.0           1.0             1.0            4.0  ...   \n",
      "792            1.0           0.5             0.5            1.0  ...   \n",
      "793            0.5           2.0             4.0            1.0  ...   \n",
      "798            2.0           0.5             1.0            0.5  ...   \n",
      "\n",
      "     percentage_male  pokedex_number  sp_attack  sp_defense  speed    type1  \\\n",
      "38              24.6              39         45          25     20   normal   \n",
      "39              24.6              40         85          50     45   normal   \n",
      "88              50.0              89         65         100     50   poison   \n",
      "111             50.0             112         45          45     40   ground   \n",
      "112              0.0             113         35         105     50   normal   \n",
      "..               ...             ...        ...         ...    ...      ...   \n",
      "790              NaN             791        113          89     97  psychic   \n",
      "791              NaN             792        137         107     97  psychic   \n",
      "792              NaN             793        127         131    103     rock   \n",
      "793              NaN             794         53          53     79      bug   \n",
      "798              NaN             799         97          53     43     dark   \n",
      "\n",
      "        type2  weight_kg  generation  is_legendary  \n",
      "38      fairy        5.5           1             0  \n",
      "39      fairy       12.0           1             0  \n",
      "88     poison        NaN           1             0  \n",
      "111      rock      120.0           1             0  \n",
      "112       NaN       34.6           1             0  \n",
      "..        ...        ...         ...           ...  \n",
      "790     steel      230.0           7             1  \n",
      "791     ghost      120.0           7             1  \n",
      "792    poison       55.5           7             1  \n",
      "793  fighting      333.6           7             1  \n",
      "798    dragon      888.0           7             1  \n",
      "\n",
      "[91 rows x 41 columns]\n"
     ]
    }
   ],
   "source": [
    "result = df[df['hp'] >= 100]\n",
    "print(result)"
   ]
  },
  {
   "cell_type": "code",
   "execution_count": 36,
   "metadata": {},
   "outputs": [
    {
     "name": "stdout",
     "output_type": "stream",
     "text": [
      "           name   hp    japanese_name\n",
      "38   Jigglypuff  115         Purinプリン\n",
      "39   Wigglytuff  140      Pukurinプクリン\n",
      "88          Muk  105    Betbetonベトベトン\n",
      "111      Rhydon  105        Sidonサイドン\n",
      "112     Chansey  250        Luckyラッキー\n",
      "..          ...  ...              ...\n",
      "790    Solgaleo  137    Solgaleoソルガレオ\n",
      "791      Lunala  137      Lunalaルナアーラ\n",
      "792    Nihilego  109     Uturoidウツロイド\n",
      "793    Buzzwole  107  Massivoonマッシブーン\n",
      "798    Guzzlord  223  Akuzikingアクジキング\n",
      "\n",
      "[91 rows x 3 columns]\n"
     ]
    }
   ],
   "source": [
    "result = df[df['hp'] >= 100][['name', 'hp','japanese_name']]\n",
    "print(result)"
   ]
  },
  {
   "cell_type": "markdown",
   "metadata": {},
   "source": [
    "### 연습문제\n",
    "\n",
    "- HP가 150이상인 데이터 개수 확인"
   ]
  },
  {
   "cell_type": "code",
   "execution_count": 38,
   "metadata": {},
   "outputs": [
    {
     "name": "stdout",
     "output_type": "stream",
     "text": [
      "11\n"
     ]
    }
   ],
   "source": [
    "print(len(df[df['hp'] >= 150]))"
   ]
  },
  {
   "cell_type": "markdown",
   "metadata": {},
   "source": [
    "### 연습문제\n",
    "\n",
    "- 이름에 Pi가 들어간 포켓폰 찾기"
   ]
  },
  {
   "cell_type": "code",
   "execution_count": 40,
   "metadata": {},
   "outputs": [
    {
     "name": "stdout",
     "output_type": "stream",
     "text": [
      "                                     abilities  against_bug  against_dark  \\\n",
      "15   ['Keen Eye', 'Tangled Feet', 'Big Pecks']         0.50           1.0   \n",
      "16   ['Keen Eye', 'Tangled Feet', 'Big Pecks']         0.50           1.0   \n",
      "17   ['Keen Eye', 'Tangled Feet', 'Big Pecks']         0.50           1.0   \n",
      "24                  ['Static', 'Lightningrod']         1.00           1.0   \n",
      "126  ['Hyper Cutter', 'Mold Breaker', 'Moxie']         1.00           1.0   \n",
      "171                 ['Static', 'Lightningrod']         1.00           1.0   \n",
      "203                     ['Sturdy', 'Overcoat']         1.00           1.0   \n",
      "220   ['Oblivious', 'Snow Cloak', 'Thick Fat']         1.00           1.0   \n",
      "392                     ['Torrent', 'Defiant']         1.00           1.0   \n",
      "498                     ['Blaze', 'Thick Fat']         0.25           0.5   \n",
      "518     ['Big Pecks', 'Super Luck', 'Rivalry']         0.50           1.0   \n",
      "730       ['Keen Eye', 'Skill Link', 'Pickup']         0.50           1.0   \n",
      "\n",
      "     against_dragon  against_electric  against_fairy  against_fight  \\\n",
      "15              1.0               2.0            1.0            1.0   \n",
      "16              1.0               2.0            1.0            1.0   \n",
      "17              1.0               2.0            1.0            1.0   \n",
      "24              1.0               0.5            1.0            1.0   \n",
      "126             1.0               1.0            1.0            0.5   \n",
      "171             1.0               0.5            1.0            1.0   \n",
      "203             1.0               1.0            1.0            0.5   \n",
      "220             1.0               0.0            1.0            2.0   \n",
      "392             1.0               2.0            1.0            1.0   \n",
      "498             1.0               1.0            1.0            1.0   \n",
      "518             1.0               2.0            1.0            1.0   \n",
      "730             1.0               2.0            1.0            1.0   \n",
      "\n",
      "     against_fire  against_flying  against_ghost  ...  percentage_male  \\\n",
      "15            1.0             1.0            0.0  ...             50.0   \n",
      "16            1.0             1.0            0.0  ...             50.0   \n",
      "17            1.0             1.0            0.0  ...             50.0   \n",
      "24            1.0             0.5            1.0  ...             50.0   \n",
      "126           2.0             2.0            1.0  ...             50.0   \n",
      "171           1.0             0.5            1.0  ...             50.0   \n",
      "203           2.0             2.0            1.0  ...             50.0   \n",
      "220           2.0             1.0            1.0  ...             50.0   \n",
      "392           0.5             1.0            1.0  ...             88.1   \n",
      "498           0.5             2.0            1.0  ...             88.1   \n",
      "518           1.0             1.0            0.0  ...             50.0   \n",
      "730           1.0             1.0            0.0  ...             50.0   \n",
      "\n",
      "     pokedex_number  sp_attack  sp_defense  speed     type1     type2  \\\n",
      "15               16         35          35     56    normal    flying   \n",
      "16               17         50          50     71    normal    flying   \n",
      "17               18        135          80    121    normal    flying   \n",
      "24               25         50          50     90  electric       NaN   \n",
      "126             127         65          90    105       bug       NaN   \n",
      "171             172         35          35     60  electric       NaN   \n",
      "203             204         35          35     15       bug       NaN   \n",
      "220             221         60          60     50       ice    ground   \n",
      "392             393         61          56     40     water       NaN   \n",
      "498             499         70          55     55      fire  fighting   \n",
      "518             519         36          30     43    normal    flying   \n",
      "730             731         30          30     65    normal    flying   \n",
      "\n",
      "     weight_kg  generation  is_legendary  \n",
      "15         1.8           1             0  \n",
      "16        30.0           1             0  \n",
      "17        39.5           1             0  \n",
      "24         6.0           1             0  \n",
      "126       55.0           1             0  \n",
      "171        2.0           2             0  \n",
      "203        7.2           2             0  \n",
      "220       55.8           2             0  \n",
      "392        5.2           4             0  \n",
      "498       55.5           5             0  \n",
      "518        2.1           5             0  \n",
      "730        1.2           7             0  \n",
      "\n",
      "[12 rows x 41 columns]\n"
     ]
    }
   ],
   "source": [
    "print(df[df['name'].str.contains('Pi',na=False)])"
   ]
  },
  {
   "cell_type": "code",
   "execution_count": 42,
   "metadata": {},
   "outputs": [
    {
     "name": "stdout",
     "output_type": "stream",
     "text": [
      "abilities              0\n",
      "against_bug            0\n",
      "against_dark           0\n",
      "against_dragon         0\n",
      "against_electric       0\n",
      "against_fairy          0\n",
      "against_fight          0\n",
      "against_fire           0\n",
      "against_flying         0\n",
      "against_ghost          0\n",
      "against_grass          0\n",
      "against_ground         0\n",
      "against_ice            0\n",
      "against_normal         0\n",
      "against_poison         0\n",
      "against_psychic        0\n",
      "against_rock           0\n",
      "against_steel          0\n",
      "against_water          0\n",
      "attack                 0\n",
      "base_egg_steps         0\n",
      "base_happiness         0\n",
      "base_total             0\n",
      "capture_rate           0\n",
      "classfication          0\n",
      "defense                0\n",
      "experience_growth      0\n",
      "height_m              20\n",
      "hp                     0\n",
      "japanese_name          0\n",
      "name                   0\n",
      "percentage_male       98\n",
      "pokedex_number         0\n",
      "sp_attack              0\n",
      "sp_defense             0\n",
      "speed                  0\n",
      "type1                  0\n",
      "type2                384\n",
      "weight_kg             20\n",
      "generation             0\n",
      "is_legendary           0\n",
      "dtype: int64\n"
     ]
    }
   ],
   "source": [
    "print(df.isnull().sum())"
   ]
  },
  {
   "cell_type": "code",
   "execution_count": 44,
   "metadata": {},
   "outputs": [
    {
     "name": "stdout",
     "output_type": "stream",
     "text": [
      "           name   japanese_name\n",
      "9      Caterpie   Caterpieキャタピー\n",
      "36       Vulpix        Rokonロコン\n",
      "69   Weepinbell     Utsudonウツドン\n",
      "77     Rapidash     Gallopギャロップ\n",
      "166    Spinarak     Itomaruイトマル\n",
      "174      Togepi      Togepyトゲピー\n",
      "186      Hoppip     Haneccoハネッコ\n",
      "246     Pupitar  Sanagirasサナギラス\n",
      "315      Gulpin     Gokulinゴクリン\n",
      "325     Grumpig     Boopigブーピッグ\n",
      "326      Spinda   Patcheelパッチール\n",
      "327    Trapinch    Nuckrarナックラー\n",
      "356     Tropius    Tropiusトロピウス\n",
      "415   Vespiquen    Beequenビークイン\n",
      "439     Happiny     Pinpukuピンプク\n",
      "441   Spiritomb    Mikarugeミカルゲ\n",
      "450     Skorupi     Scorupiスコルピ\n",
      "451     Drapion   Dorapionドラピオン\n",
      "497       Tepig       Pokabuポカブ\n",
      "535   Palpitoad    Gamagaruガマガル\n",
      "649     Chespin  Harimaronハリマロン\n",
      "750    Dewpider   Shizukumoシズクモ\n"
     ]
    }
   ],
   "source": [
    "print(df[df['name'].str.contains('pi', na=False)][['name', 'japanese_name']])"
   ]
  },
  {
   "cell_type": "code",
   "execution_count": 48,
   "metadata": {},
   "outputs": [
    {
     "name": "stdout",
     "output_type": "stream",
     "text": [
      "           name     japanese_name   hp  defense  total_power\n",
      "0     Bulbasaur  Fushigidaneフシギダネ   45       49           94\n",
      "1       Ivysaur   Fushigisouフシギソウ   60       63          123\n",
      "2      Venusaur  Fushigibanaフシギバナ   80      123          203\n",
      "3    Charmander      Hitokageヒトカゲ   39       43           82\n",
      "4    Charmeleon       Lizardoリザード   58       58          116\n",
      "..          ...               ...  ...      ...          ...\n",
      "796  Celesteela    Tekkaguyaテッカグヤ   97      103          200\n",
      "797     Kartana   Kamiturugiカミツルギ   59      131          190\n",
      "798    Guzzlord   Akuzikingアクジキング  223       53          276\n",
      "799    Necrozma     Necrozmaネクロズマ   97      101          198\n",
      "800    Magearna      Magearnaマギアナ   80      115          195\n",
      "\n",
      "[801 rows x 5 columns]\n",
      "                                             abilities  against_bug  \\\n",
      "717                  ['Aura Break', 'Power Construct']          1.0   \n",
      "207             ['Rock Head', 'Sturdy', 'Sheer Force']          0.5   \n",
      "305             ['Sturdy', 'Rock Head', 'Heavy Metal']          0.5   \n",
      "376                           ['Clear Body', 'Sturdy']          1.0   \n",
      "712                ['Own Tempo', 'Ice Body', 'Sturdy']          1.0   \n",
      "..                                                 ...          ...   \n",
      "291                                   ['Wonder Guard']          0.5   \n",
      "348        ['Swift Swim', 'Oblivious', 'Adaptability']          1.0   \n",
      "62       ['Synchronize', 'Inner Focus', 'Magic Guard']          2.0   \n",
      "49   ['Sand Veil', 'Arena Trap', 'Sand Force', 'San...          1.0   \n",
      "171                         ['Static', 'Lightningrod']          1.0   \n",
      "\n",
      "     against_dark  against_dragon  against_electric  against_fairy  \\\n",
      "717           1.0             2.0               0.0            2.0   \n",
      "207           1.0             0.5               0.0            0.5   \n",
      "305           1.0             0.5               1.0            0.5   \n",
      "376           1.0             1.0               1.0            1.0   \n",
      "712           1.0             1.0               1.0            1.0   \n",
      "..            ...             ...               ...            ...   \n",
      "291           2.0             1.0               1.0            1.0   \n",
      "348           1.0             1.0               2.0            1.0   \n",
      "62            2.0             1.0               1.0            1.0   \n",
      "49            1.0             1.0               0.0            1.0   \n",
      "171           1.0             1.0               0.5            1.0   \n",
      "\n",
      "     against_fight  against_fire  against_flying  against_ghost  ...  \\\n",
      "717            1.0           0.5            1.00            1.0  ...   \n",
      "207            2.0           2.0            0.50            1.0  ...   \n",
      "305            4.0           1.0            0.25            1.0  ...   \n",
      "376            2.0           0.5            0.50            1.0  ...   \n",
      "712            2.0           2.0            1.00            1.0  ...   \n",
      "..             ...           ...             ...            ...  ...   \n",
      "291            0.0           2.0            2.00            2.0  ...   \n",
      "348            1.0           0.5            1.00            1.0  ...   \n",
      "62             0.5           1.0            1.00            2.0  ...   \n",
      "49             1.0           1.0            1.00            1.0  ...   \n",
      "171            1.0           1.0            0.50            1.0  ...   \n",
      "\n",
      "     pokedex_number  sp_attack  sp_defense  speed     type1   type2  \\\n",
      "717             718         91          95     85    dragon  ground   \n",
      "207             208         55          95     30     steel  ground   \n",
      "305             306         60          80     50     steel    rock   \n",
      "376             377         50         100     50      rock     NaN   \n",
      "712             713         44          46     28       ice     NaN   \n",
      "..              ...        ...         ...    ...       ...     ...   \n",
      "291             292         30          30     40       bug   ghost   \n",
      "348             349         10          55     80     water     NaN   \n",
      "62               63        105          55     90   psychic     NaN   \n",
      "49               50         35          45     90    ground  ground   \n",
      "171             172         35          35     60  electric     NaN   \n",
      "\n",
      "     weight_kg  generation  is_legendary  total_power  \n",
      "717      284.6           6             1          337  \n",
      "207      400.0           2             0          305  \n",
      "305      360.0           3             0          300  \n",
      "376      230.0           3             1          280  \n",
      "712      505.0           6             0          279  \n",
      "..         ...         ...           ...          ...  \n",
      "291        1.2           3             0           46  \n",
      "348        7.4           3             0           40  \n",
      "62        19.5           1             0           40  \n",
      "49         NaN           1             0           40  \n",
      "171        2.0           2             0           35  \n",
      "\n",
      "[801 rows x 42 columns]\n"
     ]
    }
   ],
   "source": [
    "df ['total_power'] = df['hp'] + df['defense']\n",
    "\n",
    "print(df[['name','japanese_name','hp','defense','total_power']])\n",
    "\n",
    "#sort_values() 함수: 데이터프레임의 특정 열을 기준으로 정렬\n",
    "print(df.sort_values(by='total_power', ascending=False))"
   ]
  },
  {
   "cell_type": "code",
   "execution_count": 50,
   "metadata": {},
   "outputs": [
    {
     "name": "stdout",
     "output_type": "stream",
     "text": [
      "         name  total_power\n",
      "717   Zygarde          337\n",
      "207   Steelix          305\n",
      "305    Aggron          300\n",
      "376  Regirock          280\n",
      "712   Avalugg          279\n"
     ]
    }
   ],
   "source": [
    "# 총합 점수로 내림차순 정렬 (높은 점수부터)\n",
    "sorted_df = df.sort_values('total_power', ascending=False)\n",
    "\n",
    "# 확인해보기\n",
    "print(sorted_df[['name', 'total_power']].head())"
   ]
  },
  {
   "cell_type": "code",
   "execution_count": 51,
   "metadata": {},
   "outputs": [
    {
     "name": "stdout",
     "output_type": "stream",
     "text": [
      "          name  attack  defense   hp  total_power\n",
      "305     Aggron     140      230   70          440\n",
      "382    Groudon     180      160  100          440\n",
      "717    Zygarde     100      121  216          437\n",
      "207    Steelix     125      230   75          430\n",
      "247  Tyranitar     164      150  100          414\n"
     ]
    }
   ],
   "source": [
    "# 위 3단계를 한 번에!\n",
    "df['total_power'] = df['attack'] + df['defense'] + df['hp']\n",
    "top5 = df.sort_values('total_power', ascending=False).head(5)\n",
    "print(top5[['name', 'attack', 'defense', 'hp', 'total_power']])"
   ]
  },
  {
   "cell_type": "markdown",
   "metadata": {},
   "source": [
    "📝 pandas 연습문제 세트 1\n",
    "\n",
    "문제 1: 타입별 분석\n",
    "\n",
    "전기 타입 포켓몬 중에서 speed가 가장 빠른 포켓몬 3마리를 찾으세요."
   ]
  },
  {
   "cell_type": "code",
   "execution_count": 53,
   "metadata": {},
   "outputs": [
    {
     "name": "stdout",
     "output_type": "stream",
     "text": [
      "['abilities', 'against_bug', 'against_dark', 'against_dragon', 'against_electric', 'against_fairy', 'against_fight', 'against_fire', 'against_flying', 'against_ghost', 'against_grass', 'against_ground', 'against_ice', 'against_normal', 'against_poison', 'against_psychic', 'against_rock', 'against_steel', 'against_water', 'attack', 'base_egg_steps', 'base_happiness', 'base_total', 'capture_rate', 'classfication', 'defense', 'experience_growth', 'height_m', 'hp', 'japanese_name', 'name', 'percentage_male', 'pokedex_number', 'sp_attack', 'sp_defense', 'speed', 'type1', 'type2', 'weight_kg', 'generation', 'is_legendary', 'total_power']\n"
     ]
    }
   ],
   "source": [
    "print(df.columns.tolist())"
   ]
  },
  {
   "cell_type": "code",
   "execution_count": 59,
   "metadata": {},
   "outputs": [
    {
     "name": "stdout",
     "output_type": "stream",
     "text": [
      "                                 abilities  against_bug  against_dark  \\\n",
      "100  ['Soundproof', 'Static', 'Aftermath']          1.0           1.0   \n",
      "309    ['Static', 'Lightningrod', 'Minus']          1.0           1.0   \n",
      "134          ['Volt Absorb', 'Quick Feet']          1.0           1.0   \n",
      "\n",
      "     against_dragon  against_electric  against_fairy  against_fight  \\\n",
      "100             1.0               0.5            1.0            1.0   \n",
      "309             1.0               0.5            1.0            1.0   \n",
      "134             1.0               0.5            1.0            1.0   \n",
      "\n",
      "     against_fire  against_flying  against_ghost  ...  pokedex_number  \\\n",
      "100           1.0             0.5            1.0  ...             101   \n",
      "309           1.0             0.5            1.0  ...             310   \n",
      "134           1.0             0.5            1.0  ...             135   \n",
      "\n",
      "     sp_attack  sp_defense  speed     type1  type2  weight_kg  generation  \\\n",
      "100         80          80    150  electric    NaN       66.6           1   \n",
      "309        135          80    135  electric    NaN       40.2           3   \n",
      "134        110          95    130  electric    NaN       24.5           1   \n",
      "\n",
      "     is_legendary  total_power  \n",
      "100             0          180  \n",
      "309             0          225  \n",
      "134             0          190  \n",
      "\n",
      "[3 rows x 42 columns]\n"
     ]
    }
   ],
   "source": [
    "condition = (df['type1'] == 'electric') | (df['type2'] == 'electric')\n",
    "condition2 = df[condition].sort_values('speed', ascending=False)\n",
    "result = condition2.head(3)\n",
    "print(result)"
   ]
  },
  {
   "cell_type": "markdown",
   "metadata": {},
   "source": [
    "예시\n",
    "```python \n",
    "### AND 조건\n",
    "condition = (df['type1'] == 'electric') & (df['speed'] > 50)\n",
    "\n",
    "### OR 조건  \n",
    "condition = (df['type1'] == 'electric') | (df['type2'] == 'electric')\n",
    "\n",
    "### NOT 조건\n",
    "condition = ~(df['type1'] == 'electric')\n",
    "```"
   ]
  },
  {
   "cell_type": "markdown",
   "metadata": {},
   "source": [
    "### 문제 6: 복합 조건 마스터\n",
    "불(fire) 타입이면서 동시에 attack이 100 이상인 포켓몬 중에서 speed 순으로 정렬해보세요."
   ]
  },
  {
   "cell_type": "code",
   "execution_count": 60,
   "metadata": {},
   "outputs": [
    {
     "name": "stdout",
     "output_type": "stream",
     "text": [
      "                                        abilities  against_bug  against_dark  \\\n",
      "391                        ['Blaze', 'Iron Fist']         0.25           0.5   \n",
      "77       ['Run Away', 'Flash Fire', 'Flame Body']         0.50           1.0   \n",
      "5                        ['Blaze', 'Solar Power']         0.25           1.0   \n",
      "256                      ['Blaze', 'Speed Boost']         0.25           0.5   \n",
      "493                              ['Victory Star']         1.00           2.0   \n",
      "243                   ['Pressure', 'Inner Focus']         0.50           1.0   \n",
      "58      ['Intimidate', 'Flash Fire', 'Justified']         0.50           1.0   \n",
      "145                    ['Pressure', 'Flame Body']         0.25           1.0   \n",
      "249                   ['Pressure', 'Regenerator']         0.25           1.0   \n",
      "642                                ['Turboblaze']         0.50           1.0   \n",
      "720                              ['Water Absorb']         0.50           1.0   \n",
      "135                        ['Flash Fire', 'Guts']         0.50           1.0   \n",
      "499                         ['Blaze', 'Reckless']         0.25           0.5   \n",
      "726                       ['Blaze', 'Intimidate']         1.00           0.5   \n",
      "322  ['Magma Armor', 'Solid Rock', 'Anger Point']         0.50           1.0   \n",
      "\n",
      "     against_dragon  against_electric  against_fairy  against_fight  \\\n",
      "391             1.0               1.0            1.0            1.0   \n",
      "77              1.0               1.0            0.5            1.0   \n",
      "5               1.0               2.0            0.5            0.5   \n",
      "256             1.0               1.0            1.0            1.0   \n",
      "493             1.0               1.0            0.5            0.5   \n",
      "243             1.0               1.0            0.5            1.0   \n",
      "58              1.0               1.0            0.5            1.0   \n",
      "145             1.0               2.0            0.5            0.5   \n",
      "249             1.0               2.0            0.5            0.5   \n",
      "642             2.0               0.5            1.0            1.0   \n",
      "720             1.0               2.0            0.5            1.0   \n",
      "135             1.0               1.0            0.5            1.0   \n",
      "499             1.0               1.0            1.0            1.0   \n",
      "726             1.0               1.0            1.0            2.0   \n",
      "322             1.0               0.0            0.5            1.0   \n",
      "\n",
      "     against_fire  against_flying  against_ghost  ...  pokedex_number  \\\n",
      "391          0.50             2.0            1.0  ...             392   \n",
      "77           0.50             1.0            1.0  ...              78   \n",
      "5            0.50             1.0            1.0  ...               6   \n",
      "256          0.50             2.0            1.0  ...             257   \n",
      "493          0.50             1.0            2.0  ...             494   \n",
      "243          0.50             1.0            1.0  ...             244   \n",
      "58           0.50             1.0            1.0  ...              59   \n",
      "145          0.50             1.0            1.0  ...             146   \n",
      "249          0.50             1.0            1.0  ...             250   \n",
      "642          0.25             1.0            1.0  ...             643   \n",
      "720          0.25             1.0            1.0  ...             721   \n",
      "135          0.50             1.0            1.0  ...             136   \n",
      "499          0.50             2.0            1.0  ...             500   \n",
      "726          0.50             1.0            0.5  ...             727   \n",
      "322          0.50             1.0            1.0  ...             323   \n",
      "\n",
      "     sp_attack  sp_defense  speed    type1     type2  weight_kg  generation  \\\n",
      "391        104          71    108     fire  fighting       55.0           4   \n",
      "77          80          80    105     fire       NaN       95.0           1   \n",
      "5          159         115    100     fire    flying       90.5           1   \n",
      "256        130          80    100     fire  fighting       52.0           3   \n",
      "493        100         100    100  psychic      fire        4.0           5   \n",
      "243         90          75    100     fire       NaN      198.0           2   \n",
      "58         100          80     95     fire       NaN      155.0           1   \n",
      "145        125          85     90     fire    flying       60.0           1   \n",
      "249        110         154     90     fire    flying      199.0           2   \n",
      "642        150         120     90   dragon      fire      330.0           5   \n",
      "720        130          90     70     fire     water      195.0           6   \n",
      "135         95         110     65     fire       NaN       25.0           1   \n",
      "499        100          65     65     fire  fighting      150.0           5   \n",
      "726         80          90     60     fire      dark       83.0           7   \n",
      "322        145         105     20     fire    ground      220.0           3   \n",
      "\n",
      "     is_legendary  total_power  \n",
      "391             0          251  \n",
      "77              0          235  \n",
      "5               0          260  \n",
      "256             0          320  \n",
      "493             1          300  \n",
      "243             1          315  \n",
      "58              0          280  \n",
      "145             1          280  \n",
      "249             1          326  \n",
      "642             1          320  \n",
      "720             1          310  \n",
      "135             0          255  \n",
      "499             0          298  \n",
      "726             0          300  \n",
      "322             0          290  \n",
      "\n",
      "[15 rows x 42 columns]\n"
     ]
    }
   ],
   "source": [
    "condition = ((df['type1'] == 'fire')|(df['type2'] == 'fire')) & (df['attack'] >= 100)\n",
    "result = df[condition].sort_values('speed',ascending=False)\n",
    "print(result)"
   ]
  },
  {
   "cell_type": "markdown",
   "metadata": {},
   "source": [
    "### 문제 7: 여러 조건 OR\n",
    "type1이 water, fire, grass 중 하나인 포켓몬들을 찾아보세요."
   ]
  },
  {
   "cell_type": "code",
   "execution_count": 62,
   "metadata": {},
   "outputs": [
    {
     "name": "stdout",
     "output_type": "stream",
     "text": [
      "           name      japanese_name  type1    type2\n",
      "0     Bulbasaur   Fushigidaneフシギダネ  grass   poison\n",
      "1       Ivysaur    Fushigisouフシギソウ  grass   poison\n",
      "2      Venusaur   Fushigibanaフシギバナ  grass   poison\n",
      "3    Charmander       Hitokageヒトカゲ   fire      NaN\n",
      "4    Charmeleon        Lizardoリザード   fire      NaN\n",
      "..          ...                ...    ...      ...\n",
      "775  Turtonator     Bakugamesバクガメス   fire   dragon\n",
      "778     Bruxish   Hagigishiriハギギシリ  water  psychic\n",
      "786   Tapu Bulu   Kapu-bululカプ・ブルル  grass    fairy\n",
      "787   Tapu Fini  Kapu-rehireカプ・レヒレ  water    fairy\n",
      "797     Kartana    Kamiturugiカミツルギ  grass    steel\n",
      "\n",
      "[244 rows x 4 columns]\n"
     ]
    }
   ],
   "source": [
    "condition_7 = (df['type1'] == 'water') | (df['type1'] == 'fire') | (df['type1'] == 'grass')\n",
    "result_7 = df[condition_7]\n",
    "print(result_7[['name','japanese_name','type1','type2']])"
   ]
  },
  {
   "cell_type": "markdown",
   "metadata": {},
   "source": [
    "### 문제 8: 문자열 응용\n",
    "이름에 'a'가 들어가면서 동시에 HP가 50 이상인 포켓몬을 찾아보세요.\n"
   ]
  },
  {
   "cell_type": "code",
   "execution_count": 63,
   "metadata": {},
   "outputs": [
    {
     "name": "stdout",
     "output_type": "stream",
     "text": [
      "           name  hp\n",
      "1       Ivysaur  60\n",
      "2      Venusaur  80\n",
      "4    Charmeleon  58\n",
      "5     Charizard  78\n",
      "7     Wartortle  59\n",
      "..          ...  ..\n",
      "794   Pheromosa  71\n",
      "796  Celesteela  97\n",
      "797     Kartana  59\n",
      "799    Necrozma  97\n",
      "800    Magearna  80\n",
      "\n",
      "[351 rows x 2 columns]\n"
     ]
    }
   ],
   "source": [
    "condition_8 = (df['name'].str.contains('a')) & (df['hp'] >= 50)\n",
    "result_8 = df[condition_8]\n",
    "print(result_8[['name','hp']])"
   ]
  },
  {
   "cell_type": "markdown",
   "metadata": {},
   "source": [
    "### 문제 9: 데이터 그룹핑\n",
    "각 type1별로 평균 attack을 계산해보세요."
   ]
  },
  {
   "cell_type": "code",
   "execution_count": 64,
   "metadata": {},
   "outputs": [
    {
     "name": "stdout",
     "output_type": "stream",
     "text": [
      "type1\n",
      "bug          70.125000\n",
      "dark         87.793103\n",
      "dragon      106.407407\n",
      "electric     70.820513\n",
      "fairy        62.111111\n",
      "fighting     99.178571\n",
      "fire         81.500000\n",
      "flying       66.666667\n",
      "ghost        72.740741\n",
      "grass        73.769231\n",
      "ground       94.812500\n",
      "ice          73.304348\n",
      "normal       75.161905\n",
      "poison       72.656250\n",
      "psychic      65.566038\n",
      "rock         90.666667\n",
      "steel        93.083333\n",
      "water        73.307018\n",
      "Name: attack, dtype: float64\n"
     ]
    }
   ],
   "source": [
    "grouped_df = df.groupby('type1')['attack'].mean()\n",
    "print(grouped_df)"
   ]
  },
  {
   "cell_type": "markdown",
   "metadata": {},
   "source": [
    "### 문제 10: 랭킹 시스템\n",
    "각 타입별로 speed 순위를 매겨보세요. (1위, 2위, 3위...)\n"
   ]
  },
  {
   "cell_type": "code",
   "execution_count": 67,
   "metadata": {},
   "outputs": [
    {
     "name": "stdout",
     "output_type": "stream",
     "text": [
      "         name  type1  speed  speed_rank\n",
      "0   Bulbasaur  grass     45         8.5\n",
      "1     Ivysaur  grass     60         6.0\n",
      "2    Venusaur  grass     80         2.5\n",
      "3  Charmander   fire     65         5.0\n",
      "4  Charmeleon   fire     80         2.5\n",
      "5   Charizard   fire    100         1.0\n",
      "6    Squirtle  water     43        10.0\n",
      "7   Wartortle  water     58         7.0\n",
      "8   Blastoise  water     78         4.0\n",
      "9    Caterpie    bug     45         8.5\n"
     ]
    }
   ],
   "source": [
    "# 먼저 rank() 함수가 어떻게 작동하는지 보기\n",
    "sample = df[['name', 'type1', 'speed']].head(10)\n",
    "sample['speed_rank'] = sample['speed'].rank(ascending=False)\n",
    "print(sample)"
   ]
  },
  {
   "cell_type": "code",
   "execution_count": 68,
   "metadata": {},
   "outputs": [
    {
     "name": "stdout",
     "output_type": "stream",
     "text": [
      "           name type1  speed  type1_speed_rank\n",
      "290     Ninjask   bug    160               1.0\n",
      "794   Pheromosa   bug    151               2.0\n",
      "14     Beedrill   bug    145               3.5\n",
      "616    Accelgor   bug    145               3.5\n",
      "742    Ribombee   bug    124               5.0\n",
      "544   Scolipede   bug    112               6.0\n",
      "631      Durant   bug    109               7.0\n",
      "595  Galvantula   bug    108               8.0\n",
      "122     Scyther   bug    105               9.5\n",
      "126      Pinsir   bug    105               9.5\n",
      "636   Volcarona   bug    100              11.0\n",
      "648    Genesect   bug     99              12.0\n",
      "192       Yanma   bug     95              13.5\n",
      "468     Yanmega   bug     95              13.5\n",
      "541    Leavanny   bug     92              15.0\n",
      "48     Venomoth   bug     90              16.0\n",
      "665    Vivillon   bug     89              17.0\n",
      "165      Ledian   bug     85              19.0\n",
      "312     Volbeat   bug     85              19.0\n",
      "313    Illumise   bug     85              19.0\n"
     ]
    }
   ],
   "source": [
    "# 각 타입별로 speed 순위 매기기\n",
    "df['type1_speed_rank'] = df.groupby('type1')['speed'].rank(ascending=False)\n",
    "\n",
    "# 확인해보기\n",
    "result = df[['name', 'type1', 'speed', 'type1_speed_rank']].sort_values(['type1', 'type1_speed_rank'])\n",
    "print(result.head(20))"
   ]
  },
  {
   "cell_type": "code",
   "execution_count": 69,
   "metadata": {},
   "outputs": [
    {
     "name": "stdout",
     "output_type": "stream",
     "text": [
      "🔥 Fire 타입 Speed 랭킹:\n",
      "           name type1  speed  type1_speed_rank\n",
      "662  Talonflame  fire    126               1.0\n",
      "37    Ninetales  fire    109               2.0\n",
      "391   Infernape  fire    108               3.0\n",
      "667      Pyroar  fire    106               4.0\n",
      "77     Rapidash  fire    105               5.0\n",
      "654     Delphox  fire    104               6.0\n",
      "513    Simisear  fire    101               7.0\n",
      "156  Typhlosion  fire    100               9.5\n",
      "243       Entei  fire    100               9.5\n",
      "256    Blaziken  fire    100               9.5\n"
     ]
    }
   ],
   "source": [
    "# 예를 들어 fire 타입의 speed 순위만 보기\n",
    "fire_ranking = df[df['type1'] == 'fire'].sort_values('type1_speed_rank')[['name', 'type1', 'speed', 'type1_speed_rank']]\n",
    "print(\"🔥 Fire 타입 Speed 랭킹:\")\n",
    "print(fire_ranking.head(10))"
   ]
  },
  {
   "cell_type": "code",
   "execution_count": 66,
   "metadata": {},
   "outputs": [
    {
     "name": "stdout",
     "output_type": "stream",
     "text": [
      "각 타입별 Speed 1위:\n",
      "           name     type1  speed\n",
      "290     Ninjask       bug    160\n",
      "460     Weavile      dark    125\n",
      "372   Salamence    dragon    120\n",
      "100   Electrode  electric    150\n",
      "763      Comfey     fairy    100\n",
      "700    Hawlucha  fighting    118\n",
      "662  Talonflame      fire    126\n",
      "714     Noivern    flying    123\n",
      "93       Gengar     ghost    130\n",
      "253    Sceptile     grass    145\n",
      "50      Dugtrio    ground    110\n",
      "477    Froslass       ice    110\n",
      "427     Lopunny    normal    135\n",
      "168      Crobat    poison    130\n",
      "385      Deoxys   psychic    180\n",
      "141  Aerodactyl      rock    150\n",
      "375   Metagross     steel    110\n",
      "657    Greninja     water    132\n"
     ]
    }
   ],
   "source": [
    "# 모든 타입의 1위만 보기\n",
    "type_champions = df.loc[df.groupby('type1')['speed'].idxmax()]\n",
    "print(\"각 타입별 Speed 1위:\")\n",
    "print(type_champions[['name', 'type1', 'speed']])"
   ]
  },
  {
   "cell_type": "code",
   "execution_count": null,
   "metadata": {},
   "outputs": [],
   "source": []
  }
 ],
 "metadata": {
  "kernelspec": {
   "display_name": "Python 3",
   "language": "python",
   "name": "python3"
  },
  "language_info": {
   "codemirror_mode": {
    "name": "ipython",
    "version": 3
   },
   "file_extension": ".py",
   "mimetype": "text/x-python",
   "name": "python",
   "nbconvert_exporter": "python",
   "pygments_lexer": "ipython3",
   "version": "3.13.0"
  }
 },
 "nbformat": 4,
 "nbformat_minor": 2
}
